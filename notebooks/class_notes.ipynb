{
 "cells": [
  {
   "cell_type": "markdown",
   "metadata": {},
   "source": [
    "# New Notebook"
   ]
  },
  {
   "cell_type": "code",
   "execution_count": null,
   "metadata": {},
   "outputs": [],
   "source": [
    "age = int(0x2B)\n",
    "print(\"JR is\", age)"
   ]
  },
  {
   "cell_type": "code",
   "execution_count": null,
   "metadata": {},
   "outputs": [],
   "source": [
    "year = int(input('Enter a year: '))\n",
    "print('You entered', year)\n",
    "type(year)"
   ]
  },
  {
   "cell_type": "code",
   "execution_count": null,
   "metadata": {},
   "outputs": [],
   "source": [
    "name = 'george'\n",
    "description = 'my name changed'\n",
    "year = 2015\n",
    "sentence = name + ' ' + description + ' ' + str(year)\n",
    "print(sentence)"
   ]
  },
  {
   "cell_type": "code",
   "execution_count": null,
   "metadata": {},
   "outputs": [],
   "source": [
    "song1 = '\\n\\thello'\n",
    "song2 = '\\n\\tgeorge'\n",
    "song3 = '\\n\\tthomas'\n",
    "print('top three songs:', song1, song2, song3)"
   ]
  },
  {
   "cell_type": "code",
   "execution_count": null,
   "metadata": {},
   "outputs": [],
   "source": [
    "firstname = input('Enter your first name: ')\n",
    "lastname = input('Enter your first name: ')\n",
    "message = 'Hello ' + lastname + ',' + ' ' + firstname\n",
    "message"
   ]
  },
  {
   "cell_type": "code",
   "execution_count": null,
   "metadata": {},
   "outputs": [],
   "source": [
    "str_word = input('Enter a word: ')\n",
    "index_n = input('Enter a number between 0-5: ')\n",
    "#IndexError: string index out of range\n",
    "#str_word[0] = 'x' # TypeError: 'str' object does not support item assignment\n",
    "print(str_word[int(index_n)]) "
   ]
  },
  {
   "cell_type": "code",
   "execution_count": null,
   "metadata": {},
   "outputs": [],
   "source": [
    "year = int(input(\"Enter a year: \"))\n",
    "\n",
    "# divided by 100 means century year (ending with 00)\n",
    "# century year divided by 400 is leap year\n",
    "if (year % 400 == 0) and (year % 100 == 0):\n",
    "    print(\"{0} is a leap year\".format(year))\n",
    "\n",
    "# not divided by 100 means not a century year\n",
    "# year divided by 4 is a leap year\n",
    "elif (year % 4 ==0) and (year % 100 != 0):\n",
    "    print(\"{0} is a leap year\".format(year))\n",
    "\n",
    "# if not divided by both 400 (century year) and 4 (not century year)\n",
    "# year is not leap year\n",
    "else:\n",
    "    print(\"{0} is not a leap year\".format(year))"
   ]
  },
  {
   "cell_type": "code",
   "execution_count": null,
   "metadata": {},
   "outputs": [],
   "source": [
    "number = int(input(\"Enter a number: \"))\n",
    "if (number % 2) == 0:\n",
    "   print(f\"The number {number} is an Even number\")\n",
    "else:\n",
    "   print(f\"The number {number} is an Odd number\")"
   ]
  },
  {
   "cell_type": "code",
   "execution_count": null,
   "metadata": {},
   "outputs": [],
   "source": [
    "# importing the module\n",
    "import calendar\n",
    "\n",
    "# input the year \n",
    "year=int(input('Enter the value of year: '))\n",
    "leap_year=calendar.isleap(year)\n",
    "\n",
    "# checking leap year\n",
    "if leap_year: # to check condition\n",
    "    print('The given year is a leap year.')\n",
    "else:\n",
    "    print('The given year is a non-leap year.')"
   ]
  },
  {
   "cell_type": "code",
   "execution_count": null,
   "metadata": {},
   "outputs": [],
   "source": [
    "import this"
   ]
  },
  {
   "cell_type": "code",
   "execution_count": null,
   "metadata": {},
   "outputs": [],
   "source": [
    "vname = input(\"Enter a word: \")\n",
    "for name in vname:\n",
    "    print(name * 2, end='')"
   ]
  },
  {
   "cell_type": "code",
   "execution_count": null,
   "metadata": {},
   "outputs": [],
   "source": [
    "number = int(input(\"Enter a number: \"))\n",
    " \n",
    "factorial = 1\n",
    " \n",
    "for data in range(1, number + 1):\n",
    "    factorial = factorial * data\n",
    "print(factorial)"
   ]
  },
  {
   "cell_type": "code",
   "execution_count": null,
   "metadata": {},
   "outputs": [],
   "source": [
    "n = int(input(\"Enter a positive number: \"))\n",
    "factorial = 1\n",
    "for value in range(n, 1, -1):\n",
    "    factorial *= value\n",
    "print(n)"
   ]
  },
  {
   "cell_type": "code",
   "execution_count": null,
   "metadata": {},
   "outputs": [],
   "source": [
    "import math\n",
    "number = int(input(\"Enter a number: \"))\n",
    "print(math.factorial(number))"
   ]
  },
  {
   "cell_type": "code",
   "execution_count": null,
   "metadata": {},
   "outputs": [],
   "source": [
    "string = \"\"\n",
    "while len(string) != 5:\n",
    "    string = input('enter a 5-letter string: ')\n",
    "    if len(string) != 5:\n",
    "        print(f'{string} is not 5 letters ')\n",
    "       \n",
    "else:\n",
    "    print(f'{string} is 5 letters ')"
   ]
  },
  {
   "cell_type": "code",
   "execution_count": null,
   "metadata": {},
   "outputs": [],
   "source": [
    "import random\n",
    "number1 = random.randint(1, 100)\n",
    "number2 = int()\n",
    "while number2 != number1:\n",
    "    number2 = int(input('Please quess the number between 1 - 100: '))\n",
    "    if number2 > number1:\n",
    "        print('You quessed to high. Please enter a lower number')\n",
    "    else:\n",
    "        print('You quessed to low. Please enter a higher number')\n",
    "\n",
    "else:\n",
    "    print(f'You quessed the correct number, The number is {number1}')"
   ]
  },
  {
   "cell_type": "code",
   "execution_count": null,
   "metadata": {},
   "outputs": [],
   "source": [
    "import random\n",
    "number1 = random.randint(1, 10)\n",
    "number2 = int()\n",
    "while number2 != number1:\n",
    "    number2 = int(input('Please quess the number between 1 - 100. Enter a Zero to give up:  '))\n",
    "    if number2 == 0:\n",
    "        print('sorry you gave up') \n",
    "        break\n",
    "    elif number2 > number1:\n",
    "        print('You quessed to high. Please enter a lower number')\n",
    "    else:\n",
    "        print('You quessed to low. Please enter a higher number')\n",
    "else:\n",
    "    print(f'You quessed the correct number, The number is {number1}')"
   ]
  },
  {
   "cell_type": "code",
   "execution_count": null,
   "metadata": {},
   "outputs": [],
   "source": [
    "lower = int(input('Please enter a number to start with: '))\n",
    "upper = int(input('Please enter a higher number to end with: '))\n",
    "\n",
    "if lower >= upper:\n",
    "    upper = int(input('Please enter a higher number to end with: '))\n",
    "\n",
    "print(\"Prime numbers between\", lower, \"and\", upper, \"are:\")    \n",
    "    \n",
    "for num in range(lower, upper + 1):\n",
    "    if num > 1:\n",
    "        for i in range(2, num):\n",
    "            if (num % i) == 0:\n",
    "                break\n",
    "        else:\n",
    "            print('{:4d}'.format(num), end=' ') "
   ]
  },
  {
   "cell_type": "code",
   "execution_count": null,
   "metadata": {},
   "outputs": [],
   "source": [
    "list_of_fruits = ['banana', 'apple', 'pear', 'mango', 'cherry', 'blueberry'['green', 'black', 'white']]"
   ]
  },
  {
   "cell_type": "code",
   "execution_count": null,
   "metadata": {},
   "outputs": [],
   "source": [
    "list1 = ['green', 'red', 'blue']\n",
    "list2 = ['blue', 'green', 'red']\n",
    "list3 = ['green', 'red', 'blue']\n",
    "result1 = list1 == list2\n",
    "result2 = list1 == list3\n",
    "print(f'{result1}, {result2}')"
   ]
  },
  {
   "cell_type": "code",
   "execution_count": null,
   "metadata": {},
   "outputs": [],
   "source": [
    "list_of_fruits = ['banana', 'apple', 'pear', 'mango',['cherry', 'blueberry'],['green', 'black', 'white']]\n",
    "print(list_of_fruits[5][1])"
   ]
  },
  {
   "cell_type": "code",
   "execution_count": null,
   "metadata": {},
   "outputs": [],
   "source": [
    "#JRs solution\n",
    "word = 'george thomas likes pizza'\n",
    "output = ''\n",
    "for char in word[:-1]:\n",
    "    #print(char + '+', end='')\n",
    "    output += char + '+'\n",
    "#print(word[-1])\n",
    "output += word[-1]\n",
    "print(output)"
   ]
  },
  {
   "cell_type": "code",
   "execution_count": null,
   "metadata": {},
   "outputs": [],
   "source": [
    "empty_list = []\n",
    "while True:\n",
    "    words = input('Please enter a word, Please type quit to exit.: ')\n",
    "    if words == 'quit':\n",
    "        break\n",
    "    empty_list.append(words)\n",
    "print(empty_list)\n",
    "print(' '.join(empty_list[::2])) # removed [] from output\n",
    "print(empty_list[::2])\n",
    "print(empty_list[1::2])\n",
    "print(*empty_list[1::2]) # removed [] from output"
   ]
  },
  {
   "cell_type": "code",
   "execution_count": null,
   "metadata": {},
   "outputs": [],
   "source": [
    "vowel_list = []\n",
    "consonant_list = []\n",
    "vows = 'aeiouAEIOU'\n",
    "with open('wordlist.txt') as file:\n",
    "    words = list(file)\n",
    "    for word in words:\n",
    "        if word[0] in vows:\n",
    "            #word = word.strip()\n",
    "            vowel_list.append(word.strip())\n",
    "        else:\n",
    "            #word = word.strip()\n",
    "            consonant_list.append(word.strip()) \n",
    "print('THESE WORDS START WITH CONSONANTS\\n',', '.join(consonant_list))\n",
    "print('\\nTHESE WORDS START WITH VOWELS\\n',', '.join(vowel_list))"
   ]
  },
  {
   "cell_type": "code",
   "execution_count": null,
   "metadata": {},
   "outputs": [],
   "source": [
    "roman = {'M': 1000, 'D': 500, 'C': 100, 'L': 50, 'X': 10, 'V': 5, 'I': 1}\n",
    "total_value = 0\n",
    "entry = input('Please enter a Roman numeral: ')\n",
    "entry_list = list(entry)\n",
    "#print(entry_list)\n",
    "for letter in entry_list:\n",
    "    value = roman[letter]\n",
    "    total_value = total_value + value\n",
    "print(total_value)"
   ]
  },
  {
   "cell_type": "code",
   "execution_count": null,
   "metadata": {},
   "outputs": [],
   "source": [
    "class Point:\n",
    "    x: int\n",
    "    y: int\n",
    "\n",
    "def where_is(point):\n",
    "    match point:\n",
    "        case Point(x=0, y=0):\n",
    "            print(\"Origin\")\n",
    "        case Point(x=0, y=y):\n",
    "            print(f\"Y={y}\")\n",
    "        case Point(x=x, y=0):\n",
    "            print(f\"X={x}\")\n",
    "        case Point():\n",
    "            print(\"Somewhere else\")\n",
    "        case _:\n",
    "            print(\"Not a point\")"
   ]
  },
  {
   "cell_type": "code",
   "execution_count": null,
   "metadata": {},
   "outputs": [],
   "source": [
    "def max3(a, b, c):\n",
    "    if (a >= b) and (a >= c):\n",
    "        return a\n",
    "    elif (b >= a) and (b >= c):\n",
    "        return b\n",
    "    else:\n",
    "        return c"
   ]
  },
  {
   "cell_type": "code",
   "execution_count": null,
   "metadata": {},
   "outputs": [],
   "source": [
    "max3(9,10,15)"
   ]
  },
  {
   "cell_type": "code",
   "execution_count": null,
   "metadata": {},
   "outputs": [],
   "source": [
    "def sumlist():\n",
    "    num_list = []\n",
    "    while True:\n",
    "        nums = int(input('Please enter a number, Please enter 0 to exit.: '))\n",
    "        if nums == 0:\n",
    "            break\n",
    "        num_list.append(nums)\n",
    "    print(sum(num_list))"
   ]
  },
  {
   "cell_type": "code",
   "execution_count": null,
   "metadata": {},
   "outputs": [],
   "source": [
    "sumlist()"
   ]
  },
  {
   "cell_type": "code",
   "execution_count": null,
   "metadata": {},
   "outputs": [],
   "source": [
    "def removedup():\n",
    "    num_list = []\n",
    "    while True:\n",
    "        nums = int(input('Please enter a number, Please enter 0 to exit.: '))\n",
    "        if nums == 0:\n",
    "            break\n",
    "        num_list.append(nums)\n",
    "    print(list(dict.fromkeys(num_list)))"
   ]
  },
  {
   "cell_type": "code",
   "execution_count": null,
   "metadata": {},
   "outputs": [],
   "source": [
    "removedup()"
   ]
  },
  {
   "cell_type": "code",
   "execution_count": null,
   "metadata": {},
   "outputs": [],
   "source": [
    "import string\n",
    "def pangram(str):\n",
    "    alphabet = \"abcdefghijklmnopqrstuvwxyz\"\n",
    "    for char in alphabet:\n",
    "        if char not in str.lower():\n",
    "            return False\n",
    "    return True"
   ]
  },
  {
   "cell_type": "code",
   "execution_count": null,
   "metadata": {},
   "outputs": [],
   "source": [
    "string = input('Please enter a sentance: ')\n",
    "if(pangram(string) == True):\n",
    "    print(\"Your Sentance is a Pangram\")\n",
    "else:\n",
    "    print(\"Your Sentance is NOT a Pangram\")"
   ]
  },
  {
   "cell_type": "markdown",
   "metadata": {},
   "source": [
    "Test sentance 'the quick brown fox jumps over the lazy dog'"
   ]
  },
  {
   "cell_type": "markdown",
   "metadata": {},
   "source": [
    "While thinking if thier was a better way to do this with out using the alphabet as a variable. found an exampleusing a set. "
   ]
  },
  {
   "cell_type": "code",
   "execution_count": null,
   "metadata": {},
   "outputs": [],
   "source": [
    "import string\n",
    "\n",
    "alphabet = set(string.ascii_lowercase)\n",
    "  \n",
    "def pangram(string):\n",
    "    return set(string.lower()) >= alphabet"
   ]
  },
  {
   "cell_type": "code",
   "execution_count": null,
   "metadata": {},
   "outputs": [],
   "source": [
    "from collections.abc import Iterable\n",
    "li = [1,2,3,4]\n",
    "var1 = 16\n",
    "print(isinstance(li, Iterable))\n",
    "print(isinstance(var1, Iterable))"
   ]
  },
  {
   "cell_type": "code",
   "execution_count": null,
   "metadata": {},
   "outputs": [],
   "source": [
    "string = input('Please enter a sentance: ')\n",
    "stride = int(input('Please enter a number: '))\n",
    "\n",
    "\n",
    "for stride in range(len(string)):\n",
    "        if stride != 0:\n",
    "            new_string += string[stride].upper()\n",
    "print(new_string)\n"
   ]
  },
  {
   "cell_type": "code",
   "execution_count": null,
   "metadata": {},
   "outputs": [],
   "source": [
    "string = input('Please enter a sentance: ')\n",
    "stride = int(input('Please enter a number: '))\n",
    "\n",
    "output = ''\n",
    "pos = 0\n",
    "while pos < len(string):\n",
    "    section = string[pos:pos+stride]\n",
    "    output += section.upper()\n",
    "    section = string[pos+stride:pos+stride * 2]\n",
    "    output += section.lower()\n",
    "    pos += stride * 2\n",
    "print(output)"
   ]
  },
  {
   "cell_type": "code",
   "execution_count": null,
   "metadata": {},
   "outputs": [],
   "source": [
    "string = input('Please enter a sentance: ')\n",
    "stride = int(input('Please enter a number: '))\n",
    "\n",
    "output = ''\n",
    "pos = 0\n",
    "for pos in range(0, len(string), stride * 2):\n",
    "    section = string[pos:pos+stride]\n",
    "    output += section.upper()\n",
    "    section = string[pos+stride:pos+stride * 2]\n",
    "    output += section.lower()\n",
    "print(output)"
   ]
  },
  {
   "cell_type": "code",
   "execution_count": null,
   "metadata": {},
   "outputs": [],
   "source": [
    "import inquirer\n",
    "\n",
    "fruits = ['Apple','Watermelon','Orange','Pear','Cherry','Strawberry','Nectarine','Grape','Mango','Blueberry','Pomegranate']\n",
    "vegetables = ['Carrot','Brussels sprout','Pumpkin','Cabbage','Potato','Eggplant','Sweet potato','Turnip','Green chilli','Onion','Lettuce','Radish']\n",
    "\n",
    "questions = [\n",
    "  inquirer.List('size',\n",
    "                message=\"What would you like to do?\",\n",
    "                choices=['Display both lists', 'Add a fruit', 'Add a vegetable', 'Remove a fruit', 'Remove a vegetable', 'Reverse list of fruits', 'Reverse list of vegetables'],\n",
    "            ),\n",
    "]\n",
    "answers = inquirer.prompt(questions)\n",
    "print(answers[\"size\"])"
   ]
  },
  {
   "cell_type": "code",
   "execution_count": null,
   "metadata": {},
   "outputs": [],
   "source": [
    "ints = [div for div in range(1,101) if div % 5 != 0]\n",
    "print(ints)"
   ]
  },
  {
   "cell_type": "code",
   "execution_count": null,
   "metadata": {},
   "outputs": [],
   "source": [
    "squares = [sq**2 for sq in range(1,26)]\n",
    "print(squares)"
   ]
  },
  {
   "cell_type": "code",
   "execution_count": null,
   "metadata": {},
   "outputs": [],
   "source": [
    "colors = ['black', 'white']\n",
    "sizes = ['S', 'M', 'L']\n",
    "sleeves = ['short', 'long']\n",
    "tshirts = [[color, size, sleeve] for color in colors\n",
    "                         for size in sizes for sleeve in sleeves]\n",
    "tshirts"
   ]
  },
  {
   "cell_type": "code",
   "execution_count": null,
   "metadata": {},
   "outputs": [],
   "source": []
  }
 ],
 "metadata": {
  "interpreter": {
   "hash": "916dbcbb3f70747c44a77c7bcd40155683ae19c65e1c03b4aa3499c5328201f1"
  },
  "kernelspec": {
   "display_name": "Python 3.7.10 64-bit",
   "language": "python",
   "name": "python3"
  },
  "language_info": {
   "codemirror_mode": {
    "name": "ipython",
    "version": 3
   },
   "file_extension": ".py",
   "mimetype": "text/x-python",
   "name": "python",
   "nbconvert_exporter": "python",
   "pygments_lexer": "ipython3",
   "version": "3.7.10"
  },
  "orig_nbformat": 4
 },
 "nbformat": 4,
 "nbformat_minor": 2
}
