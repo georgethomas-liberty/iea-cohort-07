{
 "cells": [
  {
   "cell_type": "markdown",
   "metadata": {},
   "source": [
    "# New Notebook"
   ]
  },
  {
   "cell_type": "code",
   "execution_count": 1,
   "metadata": {},
   "outputs": [
    {
     "name": "stdout",
     "output_type": "stream",
     "text": [
      "JR is 43\n"
     ]
    }
   ],
   "source": [
    "age = int(0x2B)\n",
    "print(\"JR is\", age)"
   ]
  },
  {
   "cell_type": "code",
   "execution_count": 19,
   "metadata": {},
   "outputs": [
    {
     "name": "stdout",
     "output_type": "stream",
     "text": [
      "You entered 2018\n"
     ]
    },
    {
     "data": {
      "text/plain": [
       "int"
      ]
     },
     "execution_count": 19,
     "metadata": {},
     "output_type": "execute_result"
    }
   ],
   "source": [
    "year = int(input('Enter a year: '))\n",
    "print('You entered', year)\n",
    "type(year)"
   ]
  },
  {
   "cell_type": "code",
   "execution_count": 13,
   "metadata": {},
   "outputs": [
    {
     "name": "stdout",
     "output_type": "stream",
     "text": [
      "george my name changed 2015\n"
     ]
    }
   ],
   "source": [
    "name = 'george'\n",
    "description = 'my name changed'\n",
    "year = 2015\n",
    "sentence = name + ' ' + description + ' ' + str(year)\n",
    "print(sentence)"
   ]
  },
  {
   "cell_type": "code",
   "execution_count": 17,
   "metadata": {},
   "outputs": [
    {
     "name": "stdout",
     "output_type": "stream",
     "text": [
      "top three songs: \n",
      "\thello \n",
      "\tgeorge \n",
      "\tthomas\n"
     ]
    }
   ],
   "source": [
    "song1 = '\\n\\thello'\n",
    "song2 = '\\n\\tgeorge'\n",
    "song3 = '\\n\\tthomas'\n",
    "print('top three songs:', song1, song2, song3)"
   ]
  },
  {
   "cell_type": "code",
   "execution_count": 27,
   "metadata": {},
   "outputs": [
    {
     "data": {
      "text/plain": [
       "'Hello\\n thomas, george'"
      ]
     },
     "execution_count": 27,
     "metadata": {},
     "output_type": "execute_result"
    }
   ],
   "source": [
    "firstname = input('Enter your first name: ')\n",
    "lastname = input('Enter your first name: ')\n",
    "message = 'Hello ' + lastname + ',' + ' ' + firstname\n",
    "message"
   ]
  },
  {
   "cell_type": "code",
   "execution_count": 31,
   "metadata": {},
   "outputs": [
    {
     "name": "stdout",
     "output_type": "stream",
     "text": [
      "a\n"
     ]
    }
   ],
   "source": [
    "str_word = input('Enter a word: ')\n",
    "index_n = input('Enter a number between 0-5: ')\n",
    "#IndexError: string index out of range\n",
    "#str_word[0] = 'x' # TypeError: 'str' object does not support item assignment\n",
    "print(str_word[int(index_n)]) "
   ]
  },
  {
   "cell_type": "code",
   "execution_count": 1,
   "metadata": {},
   "outputs": [
    {
     "name": "stdout",
     "output_type": "stream",
     "text": [
      "2987 is not a leap year\n"
     ]
    }
   ],
   "source": [
    "year = int(input(\"Enter a year: \"))\n",
    "\n",
    "# divided by 100 means century year (ending with 00)\n",
    "# century year divided by 400 is leap year\n",
    "if (year % 400 == 0) and (year % 100 == 0):\n",
    "    print(\"{0} is a leap year\".format(year))\n",
    "\n",
    "# not divided by 100 means not a century year\n",
    "# year divided by 4 is a leap year\n",
    "elif (year % 4 ==0) and (year % 100 != 0):\n",
    "    print(\"{0} is a leap year\".format(year))\n",
    "\n",
    "# if not divided by both 400 (century year) and 4 (not century year)\n",
    "# year is not leap year\n",
    "else:\n",
    "    print(\"{0} is not a leap year\".format(year))"
   ]
  },
  {
   "cell_type": "code",
   "execution_count": null,
   "metadata": {},
   "outputs": [],
   "source": [
    "number = int(input(\"Enter a number: \"))\n",
    "if (number % 2) == 0:\n",
    "   print(f\"The number {number} is an Even number\")\n",
    "else:\n",
    "   print(f\"The number {number} is an Odd number\")"
   ]
  },
  {
   "cell_type": "code",
   "execution_count": null,
   "metadata": {},
   "outputs": [],
   "source": [
    "# importing the module\n",
    "import calendar\n",
    "\n",
    "# input the year \n",
    "year=int(input('Enter the value of year: '))\n",
    "leap_year=calendar.isleap(year)\n",
    "\n",
    "# checking leap year\n",
    "if leap_year: # to check condition\n",
    "    print('The given year is a leap year.')\n",
    "else:\n",
    "    print('The given year is a non-leap year.')"
   ]
  }
 ],
 "metadata": {
  "interpreter": {
   "hash": "916dbcbb3f70747c44a77c7bcd40155683ae19c65e1c03b4aa3499c5328201f1"
  },
  "kernelspec": {
   "display_name": "Python 3.7.10 64-bit",
   "language": "python",
   "name": "python3"
  },
  "language_info": {
   "codemirror_mode": {
    "name": "ipython",
    "version": 3
   },
   "file_extension": ".py",
   "mimetype": "text/x-python",
   "name": "python",
   "nbconvert_exporter": "python",
   "pygments_lexer": "ipython3",
   "version": "3.7.10"
  },
  "orig_nbformat": 4
 },
 "nbformat": 4,
 "nbformat_minor": 2
}
