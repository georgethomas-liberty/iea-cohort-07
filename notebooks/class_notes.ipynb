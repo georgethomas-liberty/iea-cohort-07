{
 "cells": [
  {
   "cell_type": "markdown",
   "metadata": {},
   "source": [
    "# New Notebook"
   ]
  },
  {
   "cell_type": "code",
   "execution_count": 1,
   "metadata": {},
   "outputs": [
    {
     "name": "stdout",
     "output_type": "stream",
     "text": [
      "JR is 43\n"
     ]
    }
   ],
   "source": [
    "age = int(0x2B)\n",
    "print(\"JR is\", age)"
   ]
  },
  {
   "cell_type": "code",
   "execution_count": 19,
   "metadata": {},
   "outputs": [
    {
     "name": "stdout",
     "output_type": "stream",
     "text": [
      "You entered 2018\n"
     ]
    },
    {
     "data": {
      "text/plain": [
       "int"
      ]
     },
     "execution_count": 19,
     "metadata": {},
     "output_type": "execute_result"
    }
   ],
   "source": [
    "year = int(input('Enter a year: '))\n",
    "print('You entered', year)\n",
    "type(year)"
   ]
  },
  {
   "cell_type": "code",
   "execution_count": 13,
   "metadata": {},
   "outputs": [
    {
     "name": "stdout",
     "output_type": "stream",
     "text": [
      "george my name changed 2015\n"
     ]
    }
   ],
   "source": [
    "name = 'george'\n",
    "description = 'my name changed'\n",
    "year = 2015\n",
    "sentence = name + ' ' + description + ' ' + str(year)\n",
    "print(sentence)"
   ]
  },
  {
   "cell_type": "code",
   "execution_count": 17,
   "metadata": {},
   "outputs": [
    {
     "name": "stdout",
     "output_type": "stream",
     "text": [
      "top three songs: \n",
      "\thello \n",
      "\tgeorge \n",
      "\tthomas\n"
     ]
    }
   ],
   "source": [
    "song1 = '\\n\\thello'\n",
    "song2 = '\\n\\tgeorge'\n",
    "song3 = '\\n\\tthomas'\n",
    "print('top three songs:', song1, song2, song3)"
   ]
  },
  {
   "cell_type": "code",
   "execution_count": 27,
   "metadata": {},
   "outputs": [
    {
     "data": {
      "text/plain": [
       "'Hello\\n thomas, george'"
      ]
     },
     "execution_count": 27,
     "metadata": {},
     "output_type": "execute_result"
    }
   ],
   "source": [
    "firstname = input('Enter your first name: ')\n",
    "lastname = input('Enter your first name: ')\n",
    "message = 'Hello ' + lastname + ',' + ' ' + firstname\n",
    "message"
   ]
  },
  {
   "cell_type": "code",
   "execution_count": 31,
   "metadata": {},
   "outputs": [
    {
     "name": "stdout",
     "output_type": "stream",
     "text": [
      "a\n"
     ]
    }
   ],
   "source": [
    "str_word = input('Enter a word: ')\n",
    "index_n = input('Enter a number between 0-5: ')\n",
    "#IndexError: string index out of range\n",
    "#str_word[0] = 'x' # TypeError: 'str' object does not support item assignment\n",
    "print(str_word[int(index_n)]) "
   ]
  },
  {
   "cell_type": "code",
   "execution_count": 1,
   "metadata": {},
   "outputs": [
    {
     "name": "stdout",
     "output_type": "stream",
     "text": [
      "2987 is not a leap year\n"
     ]
    }
   ],
   "source": [
    "year = int(input(\"Enter a year: \"))\n",
    "\n",
    "# divided by 100 means century year (ending with 00)\n",
    "# century year divided by 400 is leap year\n",
    "if (year % 400 == 0) and (year % 100 == 0):\n",
    "    print(\"{0} is a leap year\".format(year))\n",
    "\n",
    "# not divided by 100 means not a century year\n",
    "# year divided by 4 is a leap year\n",
    "elif (year % 4 ==0) and (year % 100 != 0):\n",
    "    print(\"{0} is a leap year\".format(year))\n",
    "\n",
    "# if not divided by both 400 (century year) and 4 (not century year)\n",
    "# year is not leap year\n",
    "else:\n",
    "    print(\"{0} is not a leap year\".format(year))"
   ]
  },
  {
   "cell_type": "code",
   "execution_count": null,
   "metadata": {},
   "outputs": [],
   "source": [
    "number = int(input(\"Enter a number: \"))\n",
    "if (number % 2) == 0:\n",
    "   print(f\"The number {number} is an Even number\")\n",
    "else:\n",
    "   print(f\"The number {number} is an Odd number\")"
   ]
  },
  {
   "cell_type": "code",
   "execution_count": null,
   "metadata": {},
   "outputs": [],
   "source": [
    "# importing the module\n",
    "import calendar\n",
    "\n",
    "# input the year \n",
    "year=int(input('Enter the value of year: '))\n",
    "leap_year=calendar.isleap(year)\n",
    "\n",
    "# checking leap year\n",
    "if leap_year: # to check condition\n",
    "    print('The given year is a leap year.')\n",
    "else:\n",
    "    print('The given year is a non-leap year.')"
   ]
  },
  {
   "cell_type": "code",
   "execution_count": 1,
   "metadata": {},
   "outputs": [
    {
     "name": "stdout",
     "output_type": "stream",
     "text": [
      "The Zen of Python, by Tim Peters\n",
      "\n",
      "Beautiful is better than ugly.\n",
      "Explicit is better than implicit.\n",
      "Simple is better than complex.\n",
      "Complex is better than complicated.\n",
      "Flat is better than nested.\n",
      "Sparse is better than dense.\n",
      "Readability counts.\n",
      "Special cases aren't special enough to break the rules.\n",
      "Although practicality beats purity.\n",
      "Errors should never pass silently.\n",
      "Unless explicitly silenced.\n",
      "In the face of ambiguity, refuse the temptation to guess.\n",
      "There should be one-- and preferably only one --obvious way to do it.\n",
      "Although that way may not be obvious at first unless you're Dutch.\n",
      "Now is better than never.\n",
      "Although never is often better than *right* now.\n",
      "If the implementation is hard to explain, it's a bad idea.\n",
      "If the implementation is easy to explain, it may be a good idea.\n",
      "Namespaces are one honking great idea -- let's do more of those!\n"
     ]
    }
   ],
   "source": [
    "import this"
   ]
  },
  {
   "cell_type": "code",
   "execution_count": null,
   "metadata": {},
   "outputs": [],
   "source": [
    "vname = input(\"Enter a word: \")\n",
    "for name in vname:\n",
    "    print(name * 2, end='')"
   ]
  },
  {
   "cell_type": "code",
   "execution_count": null,
   "metadata": {},
   "outputs": [],
   "source": [
    "number = int(input(\"Enter a number: \"))\n",
    " \n",
    "factorial = 1\n",
    " \n",
    "for data in range(1, number + 1):\n",
    "    factorial = factorial * data\n",
    "print(factorial)"
   ]
  },
  {
   "cell_type": "code",
   "execution_count": 7,
   "metadata": {},
   "outputs": [
    {
     "name": "stdout",
     "output_type": "stream",
     "text": [
      "5\n"
     ]
    }
   ],
   "source": [
    "n = int(input(\"Enter a positive number: \"))\n",
    "factorial = 1\n",
    "for value in range(n, 1, -1):\n",
    "    factorial *= value\n",
    "print(n)"
   ]
  },
  {
   "cell_type": "code",
   "execution_count": 6,
   "metadata": {},
   "outputs": [
    {
     "name": "stdout",
     "output_type": "stream",
     "text": [
      "120\n"
     ]
    }
   ],
   "source": [
    "import math\n",
    "number = int(input(\"Enter a number: \"))\n",
    "print(math.factorial(number))"
   ]
  },
  {
   "cell_type": "code",
   "execution_count": null,
   "metadata": {},
   "outputs": [],
   "source": [
    "string = \"\"\n",
    "while len(string) != 5:\n",
    "    string = input('enter a 5-letter string: ')\n",
    "    if len(string) != 5:\n",
    "        print(f'{string} is not 5 letters ')\n",
    "       \n",
    "else:\n",
    "    print(f'{string} is 5 letters ')"
   ]
  },
  {
   "cell_type": "code",
   "execution_count": null,
   "metadata": {},
   "outputs": [],
   "source": [
    "import random\n",
    "number1 = random.randint(1, 100)\n",
    "number2 = int()\n",
    "while number2 != number1:\n",
    "    number2 = int(input('Please quess the number between 1 - 100: '))\n",
    "    if number2 > number1:\n",
    "        print('You quessed to high. Please enter a lower number')\n",
    "    else:\n",
    "        print('You quessed to low. Please enter a higher number')\n",
    "\n",
    "else:\n",
    "    print(f'You quessed the correct number, The number is {number1}')"
   ]
  },
  {
   "cell_type": "code",
   "execution_count": 9,
   "metadata": {},
   "outputs": [
    {
     "name": "stdout",
     "output_type": "stream",
     "text": [
      "You quessed to low. Please enter a higher number\n",
      "You quessed to high. Please enter a lower number\n",
      "You quessed to low. Please enter a higher number\n",
      "You quessed to low. Please enter a higher number\n",
      "You quessed the correct number, The number is 9\n"
     ]
    }
   ],
   "source": [
    "import random\n",
    "number1 = random.randint(1, 10)\n",
    "number2 = int()\n",
    "while number2 != number1:\n",
    "    number2 = int(input('Please quess the number between 1 - 100. Enter a Zero to give up:  '))\n",
    "    if number2 == 0:\n",
    "        print('sorry you gave up') \n",
    "        break\n",
    "    elif number2 > number1:\n",
    "        print('You quessed to high. Please enter a lower number')\n",
    "    else:\n",
    "        print('You quessed to low. Please enter a higher number')\n",
    "else:\n",
    "    print(f'You quessed the correct number, The number is {number1}')"
   ]
  },
  {
   "cell_type": "code",
   "execution_count": 14,
   "metadata": {},
   "outputs": [
    {
     "name": "stdout",
     "output_type": "stream",
     "text": [
      "Prime numbers between 500 and 1000 are:\n",
      " 503  509  521  523  541  547  557  563  569  571  577  587  593  599  601  607  613  617  619  631  641  643  647  653  659  661  673  677  683  691  701  709  719  727  733  739  743  751  757  761  769  773  787  797  809  811  821  823  827  829  839  853  857  859  863  877  881  883  887  907  911  919  929  937  941  947  953  967  971  977  983  991  997 "
     ]
    }
   ],
   "source": [
    "lower = int(input('Please enter a number to start with: '))\n",
    "upper = int(input('Please enter a higher number to end with: '))\n",
    "\n",
    "if lower >= upper:\n",
    "    upper = int(input('Please enter a higher number to end with: '))\n",
    "\n",
    "print(\"Prime numbers between\", lower, \"and\", upper, \"are:\")    \n",
    "    \n",
    "for num in range(lower, upper + 1):\n",
    "    if num > 1:\n",
    "        for i in range(2, num):\n",
    "            if (num % i) == 0:\n",
    "                break\n",
    "        else:\n",
    "            print('{:4d}'.format(num), end=' ') "
   ]
  },
  {
   "cell_type": "code",
   "execution_count": null,
   "metadata": {},
   "outputs": [],
   "source": []
  }
 ],
 "metadata": {
  "interpreter": {
   "hash": "916dbcbb3f70747c44a77c7bcd40155683ae19c65e1c03b4aa3499c5328201f1"
  },
  "kernelspec": {
   "display_name": "Python 3.7.10 64-bit",
   "language": "python",
   "name": "python3"
  },
  "language_info": {
   "codemirror_mode": {
    "name": "ipython",
    "version": 3
   },
   "file_extension": ".py",
   "mimetype": "text/x-python",
   "name": "python",
   "nbconvert_exporter": "python",
   "pygments_lexer": "ipython3",
   "version": "3.7.10"
  },
  "orig_nbformat": 4
 },
 "nbformat": 4,
 "nbformat_minor": 2
}
